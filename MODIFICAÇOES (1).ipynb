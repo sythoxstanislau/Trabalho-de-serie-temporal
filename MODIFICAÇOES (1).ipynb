{
  "cells": [
    {
      "cell_type": "markdown",
      "metadata": {
        "id": "view-in-github"
      },
      "source": [
        "[View in Colaboratory](https://colab.research.google.com/github/petroniocandido/PWFTS/blob/master/Google%20Colab%20-%20Computational%20Experiments.ipynb)"
      ]
    },
    {
      "cell_type": "markdown",
      "metadata": {
        "id": "oBDMsxedjfn8"
      },
      "source": [
        "# Probabilistic Weighted FTS\n",
        "\n",
        "Silva, P. C. L; Guimarães, F. G.; Sadaei, H. J. Probabilistic Forecasting With Fuzzy Time Series. Under publishing.\n"
      ]
    },
    {
      "cell_type": "markdown",
      "metadata": {
        "id": "C_-vc_daBUns"
      },
      "source": [
        "## Environment Setup"
      ]
    },
    {
      "cell_type": "markdown",
      "metadata": {
        "id": "OW6RkoFhBfby"
      },
      "source": [
        "### Library install/update"
      ]
    },
    {
      "cell_type": "code",
      "execution_count": 1,
      "metadata": {
        "colab": {
          "base_uri": "https://localhost:8080/"
        },
        "id": "Ktubn75KC_Z8",
        "outputId": "52315f90-fa8d-4202-c979-f19c0dfedf23"
      },
      "outputs": [
        {
          "output_type": "stream",
          "name": "stdout",
          "text": [
            "Looking in indexes: https://pypi.org/simple, https://us-python.pkg.dev/colab-wheels/public/simple/\n",
            "Collecting raceplotly\n",
            "  Downloading raceplotly-0.1.7-py3-none-any.whl (7.3 kB)\n",
            "Requirement already satisfied: numpy in /usr/local/lib/python3.10/dist-packages (from raceplotly) (1.22.4)\n",
            "Requirement already satisfied: pandas in /usr/local/lib/python3.10/dist-packages (from raceplotly) (1.5.3)\n",
            "Requirement already satisfied: plotly in /usr/local/lib/python3.10/dist-packages (from raceplotly) (5.13.1)\n",
            "Requirement already satisfied: python-dateutil>=2.8.1 in /usr/local/lib/python3.10/dist-packages (from pandas->raceplotly) (2.8.2)\n",
            "Requirement already satisfied: pytz>=2020.1 in /usr/local/lib/python3.10/dist-packages (from pandas->raceplotly) (2022.7.1)\n",
            "Requirement already satisfied: tenacity>=6.2.0 in /usr/local/lib/python3.10/dist-packages (from plotly->raceplotly) (8.2.2)\n",
            "Requirement already satisfied: six>=1.5 in /usr/local/lib/python3.10/dist-packages (from python-dateutil>=2.8.1->pandas->raceplotly) (1.16.0)\n",
            "Installing collected packages: raceplotly\n",
            "Successfully installed raceplotly-0.1.7\n",
            "/bin/bash: -c: line 0: syntax error near unexpected token `('\n",
            "/bin/bash: -c: line 0: `pip3 install -U git+https://opt/conda/lib/python3.7/site-packages (0.1.7)'\n",
            "/bin/bash: -c: line 0: syntax error near unexpected token `('\n",
            "/bin/bash: -c: line 0: `pip3 install -U git+https://opt/conda/lib/python3.7/site-packages (from raceplotly) (1.21.6)'\n",
            "/bin/bash: -c: line 0: syntax error near unexpected token `('\n",
            "/bin/bash: -c: line 0: `pip3 install -U git+https://opt/conda/lib/python3.7/site-packages (from raceplotly) (5.13.0)'\n",
            "/bin/bash: -c: line 0: syntax error near unexpected token `('\n",
            "/bin/bash: -c: line 0: `pip3 install -U git+https://opt/conda/lib/python3.7/site-packages (from raceplotly) (1.3.5)'\n",
            "/bin/bash: -c: line 0: syntax error near unexpected token `('\n",
            "/bin/bash: -c: line 0: `pip3 install -U git+https://opt/conda/lib/python3.7/site-packages (from pandas->raceplotly) (2.8.2)'\n",
            "/bin/bash: -c: line 0: syntax error near unexpected token `('\n",
            "/bin/bash: -c: line 0: `pip3 install -U git+https://opt/conda/lib/python3.7/site-packages (from pandas->raceplotly) (2022.7.1)'\n",
            "/bin/bash: -c: line 0: syntax error near unexpected token `('\n",
            "/bin/bash: -c: line 0: `pip3 install -U git+https://opt/conda/lib/python3.7/site-packages (from plotly->raceplotly) (8.1.0)'\n",
            "/bin/bash: -c: line 0: syntax error near unexpected token `('\n",
            "/bin/bash: -c: line 0: `pip3 install -U git+https://opt/conda/lib/python3.7/site-packages (from python-dateutil>=2.7.3->pandas->raceplotly) (1.16.0)'\n",
            "Looking in indexes: https://pypi.org/simple, https://us-python.pkg.dev/colab-wheels/public/simple/\n",
            "Requirement already satisfied: statsmodels in /usr/local/lib/python3.10/dist-packages (0.13.5)\n",
            "Requirement already satisfied: packaging>=21.3 in /usr/local/lib/python3.10/dist-packages (from statsmodels) (23.1)\n",
            "Requirement already satisfied: pandas>=0.25 in /usr/local/lib/python3.10/dist-packages (from statsmodels) (1.5.3)\n",
            "Requirement already satisfied: scipy>=1.3 in /usr/local/lib/python3.10/dist-packages (from statsmodels) (1.10.1)\n",
            "Requirement already satisfied: patsy>=0.5.2 in /usr/local/lib/python3.10/dist-packages (from statsmodels) (0.5.3)\n",
            "Requirement already satisfied: numpy>=1.17 in /usr/local/lib/python3.10/dist-packages (from statsmodels) (1.22.4)\n",
            "Requirement already satisfied: python-dateutil>=2.8.1 in /usr/local/lib/python3.10/dist-packages (from pandas>=0.25->statsmodels) (2.8.2)\n",
            "Requirement already satisfied: pytz>=2020.1 in /usr/local/lib/python3.10/dist-packages (from pandas>=0.25->statsmodels) (2022.7.1)\n",
            "Requirement already satisfied: six in /usr/local/lib/python3.10/dist-packages (from patsy>=0.5.2->statsmodels) (1.16.0)\n"
          ]
        }
      ],
      "source": [
        "!pip3 install raceplotly\n",
        "!pip3 install -U git+https://opt/conda/lib/python3.7/site-packages (0.1.7)\n",
        "!pip3 install -U git+https://opt/conda/lib/python3.7/site-packages (from raceplotly) (1.21.6)\n",
        "!pip3 install -U git+https://opt/conda/lib/python3.7/site-packages (from raceplotly) (5.13.0)\n",
        "!pip3 install -U git+https://opt/conda/lib/python3.7/site-packages (from raceplotly) (1.3.5)\n",
        "!pip3 install -U git+https://opt/conda/lib/python3.7/site-packages (from pandas->raceplotly) (2.8.2)\n",
        "!pip3 install -U git+https://opt/conda/lib/python3.7/site-packages (from pandas->raceplotly) (2022.7.1)\n",
        "!pip3 install -U git+https://opt/conda/lib/python3.7/site-packages (from plotly->raceplotly) (8.1.0)\n",
        "!pip3 install -U git+https://opt/conda/lib/python3.7/site-packages (from python-dateutil>=2.7.3->pandas->raceplotly) (1.16.0)\n",
        "!pip install statsmodels\n",
        "\n",
        "import statsmodels.api as sm"
      ]
    },
    {
      "cell_type": "code",
      "execution_count": 2,
      "metadata": {
        "colab": {
          "base_uri": "https://localhost:8080/"
        },
        "id": "oBuQLd9vkTJi",
        "outputId": "36d4e22f-5205-4100-b20d-b2ce34b7f985"
      },
      "outputs": [
        {
          "output_type": "stream",
          "name": "stdout",
          "text": [
            "Looking in indexes: https://pypi.org/simple, https://us-python.pkg.dev/colab-wheels/public/simple/\n",
            "Collecting git+https://github.com/petroniocandido/pyFTS\n",
            "  Cloning https://github.com/petroniocandido/pyFTS to /tmp/pip-req-build-sykjgzh6\n",
            "  Running command git clone --filter=blob:none --quiet https://github.com/petroniocandido/pyFTS /tmp/pip-req-build-sykjgzh6\n",
            "  Resolved https://github.com/petroniocandido/pyFTS to commit 4c77ecc73fa0888132ac3996ca7e1f519dcf2fc8\n",
            "  Preparing metadata (setup.py) ... \u001b[?25l\u001b[?25hdone\n",
            "Requirement already satisfied: matplotlib in /usr/local/lib/python3.10/dist-packages (from pyFTS==1.7) (3.7.1)\n",
            "Requirement already satisfied: numpy in /usr/local/lib/python3.10/dist-packages (from pyFTS==1.7) (1.22.4)\n",
            "Requirement already satisfied: pandas in /usr/local/lib/python3.10/dist-packages (from pyFTS==1.7) (1.5.3)\n",
            "Requirement already satisfied: python-dateutil>=2.7 in /usr/local/lib/python3.10/dist-packages (from matplotlib->pyFTS==1.7) (2.8.2)\n",
            "Requirement already satisfied: kiwisolver>=1.0.1 in /usr/local/lib/python3.10/dist-packages (from matplotlib->pyFTS==1.7) (1.4.4)\n",
            "Requirement already satisfied: pillow>=6.2.0 in /usr/local/lib/python3.10/dist-packages (from matplotlib->pyFTS==1.7) (8.4.0)\n",
            "Requirement already satisfied: cycler>=0.10 in /usr/local/lib/python3.10/dist-packages (from matplotlib->pyFTS==1.7) (0.11.0)\n",
            "Requirement already satisfied: packaging>=20.0 in /usr/local/lib/python3.10/dist-packages (from matplotlib->pyFTS==1.7) (23.1)\n",
            "Requirement already satisfied: fonttools>=4.22.0 in /usr/local/lib/python3.10/dist-packages (from matplotlib->pyFTS==1.7) (4.39.3)\n",
            "Requirement already satisfied: pyparsing>=2.3.1 in /usr/local/lib/python3.10/dist-packages (from matplotlib->pyFTS==1.7) (3.0.9)\n",
            "Requirement already satisfied: contourpy>=1.0.1 in /usr/local/lib/python3.10/dist-packages (from matplotlib->pyFTS==1.7) (1.0.7)\n",
            "Requirement already satisfied: pytz>=2020.1 in /usr/local/lib/python3.10/dist-packages (from pandas->pyFTS==1.7) (2022.7.1)\n",
            "Requirement already satisfied: six>=1.5 in /usr/local/lib/python3.10/dist-packages (from python-dateutil>=2.7->matplotlib->pyFTS==1.7) (1.16.0)\n",
            "Building wheels for collected packages: pyFTS\n",
            "  Building wheel for pyFTS (setup.py) ... \u001b[?25l\u001b[?25hdone\n",
            "  Created wheel for pyFTS: filename=pyFTS-1.7-py3-none-any.whl size=217892 sha256=01db1fb2b33e0ea5461d19a49e2de8467a602b6daec2c32d5891ca6894b2f772\n",
            "  Stored in directory: /tmp/pip-ephem-wheel-cache-wchua9km/wheels/10/44/09/24d848acb6e24a0d5aaddf1b5706e3691af4ce0293e0a2da29\n",
            "Successfully built pyFTS\n",
            "Installing collected packages: pyFTS\n",
            "Successfully installed pyFTS-1.7\n",
            "Looking in indexes: https://pypi.org/simple, https://us-python.pkg.dev/colab-wheels/public/simple/\n",
            "Collecting git+https://github.com/nicolaskruchten/jupyter_pivottablejs.git\n",
            "  Cloning https://github.com/nicolaskruchten/jupyter_pivottablejs.git to /tmp/pip-req-build-8d864o2k\n",
            "  Running command git clone --filter=blob:none --quiet https://github.com/nicolaskruchten/jupyter_pivottablejs.git /tmp/pip-req-build-8d864o2k\n",
            "  Resolved https://github.com/nicolaskruchten/jupyter_pivottablejs.git to commit 3bcee74f92a9237346a6fc71fdd1b696a93a5117\n",
            "  Preparing metadata (setup.py) ... \u001b[?25l\u001b[?25hdone\n",
            "Building wheels for collected packages: pivottablejs\n",
            "  Building wheel for pivottablejs (setup.py) ... \u001b[?25l\u001b[?25hdone\n",
            "  Created wheel for pivottablejs: filename=pivottablejs-0.9.0-py2.py3-none-any.whl size=4209 sha256=bc2b7c81a3fd6025b3d210b897493f96f8962f6c79b6472e9f09e33a7a6e9958\n",
            "  Stored in directory: /tmp/pip-ephem-wheel-cache-q94tfsw_/wheels/83/ad/37/f3bff32eb223ede499753d904fbd9e3e531d5bd44ed60f59fc\n",
            "Successfully built pivottablejs\n",
            "Installing collected packages: pivottablejs\n",
            "Successfully installed pivottablejs-0.9.0\n",
            "Cloning into 'stac'...\n",
            "remote: Enumerating objects: 2238, done.\u001b[K\n",
            "remote: Total 2238 (delta 0), reused 0 (delta 0), pack-reused 2238\u001b[K\n",
            "Receiving objects: 100% (2238/2238), 23.62 MiB | 17.71 MiB/s, done.\n",
            "Resolving deltas: 100% (1147/1147), done.\n",
            "Looking in indexes: https://pypi.org/simple, https://us-python.pkg.dev/colab-wheels/public/simple/\n",
            "Collecting dill\n",
            "  Downloading dill-0.3.6-py3-none-any.whl (110 kB)\n",
            "\u001b[2K     \u001b[90m━━━━━━━━━━━━━━━━━━━━━━━━━━━━━━━━━━━━━━━\u001b[0m \u001b[32m110.5/110.5 kB\u001b[0m \u001b[31m3.7 MB/s\u001b[0m eta \u001b[36m0:00:00\u001b[0m\n",
            "\u001b[?25hInstalling collected packages: dill\n",
            "Successfully installed dill-0.3.6\n",
            "--2023-04-30 18:02:38--  https://github.com/petroniocandido/PWFTS/raw/master/benchmarks.db.gz\n",
            "Resolving github.com (github.com)... 20.27.177.113\n",
            "Connecting to github.com (github.com)|20.27.177.113|:443... connected.\n",
            "HTTP request sent, awaiting response... 302 Found\n",
            "Location: https://raw.githubusercontent.com/petroniocandido/PWFTS/master/benchmarks.db.gz [following]\n",
            "--2023-04-30 18:02:39--  https://raw.githubusercontent.com/petroniocandido/PWFTS/master/benchmarks.db.gz\n",
            "Resolving raw.githubusercontent.com (raw.githubusercontent.com)... 185.199.110.133, 185.199.109.133, 185.199.108.133, ...\n",
            "Connecting to raw.githubusercontent.com (raw.githubusercontent.com)|185.199.110.133|:443... connected.\n",
            "HTTP request sent, awaiting response... 200 OK\n",
            "Length: 4177329 (4.0M) [application/octet-stream]\n",
            "Saving to: ‘benchmarks.db.gz’\n",
            "\n",
            "benchmarks.db.gz    100%[===================>]   3.98M  --.-KB/s    in 0.1s    \n",
            "\n",
            "2023-04-30 18:02:39 (32.5 MB/s) - ‘benchmarks.db.gz’ saved [4177329/4177329]\n",
            "\n"
          ]
        }
      ],
      "source": [
        "\n",
        "!pip3 install -U git+https://github.com/petroniocandido/pyFTS\n",
        "!pip3 install -U git+https://github.com/nicolaskruchten/jupyter_pivottablejs.git\n",
        "!git clone https://github.com/petroniocandido/stac\n",
        "!pip3 install dill\n",
        "!wget https://github.com/petroniocandido/PWFTS/raw/master/benchmarks.db.gz\n",
        "!gunzip benchmarks.db.gz\n",
        "import pandas as pd\n"
      ]
    },
    {
      "cell_type": "markdown",
      "metadata": {
        "id": "AXLOqk4bkUSK"
      },
      "source": []
    },
    {
      "cell_type": "markdown",
      "metadata": {
        "id": "leQv0PFbBc_y"
      },
      "source": [
        "### External libraries import"
      ]
    },
    {
      "cell_type": "code",
      "execution_count": 3,
      "metadata": {
        "id": "mnZuZOEsjfoA"
      },
      "outputs": [],
      "source": [
        "import warnings\n",
        "warnings.filterwarnings('ignore')\n",
        "\n",
        "import numpy as np\n",
        "import pandas as pd\n",
        "\n",
        "from statsmodels.tsa.stattools import adfuller\n",
        "from statsmodels.graphics.tsaplots import plot_acf, plot_pacf\n"
      ]
    },
    {
      "cell_type": "code",
      "execution_count": null,
      "metadata": {
        "colab": {
          "base_uri": "https://localhost:8080/"
        },
        "id": "CdZqJqpcjAqH",
        "outputId": "66d532a3-c14e-452e-fd47-e556d4a74876"
      },
      "outputs": [
        {
          "name": "stdout",
          "output_type": "stream",
          "text": [
            "Populating the interactive namespace from numpy and matplotlib\n"
          ]
        }
      ],
      "source": [
        "import matplotlib.pylab as plt\n",
        "\n",
        "%pylab inline\n",
        "import seaborn as sns"
      ]
    },
    {
      "cell_type": "code",
      "execution_count": 4,
      "metadata": {
        "colab": {
          "base_uri": "https://localhost:8080/",
          "height": 17
        },
        "id": "8LgolmdqF85H",
        "outputId": "52a94e9e-87b2-4cdc-dec3-5b5e4609046a"
      },
      "outputs": [
        {
          "output_type": "display_data",
          "data": {
            "text/html": [
              "        <script type=\"text/javascript\">\n",
              "        window.PlotlyConfig = {MathJaxConfig: 'local'};\n",
              "        if (window.MathJax && window.MathJax.Hub && window.MathJax.Hub.Config) {window.MathJax.Hub.Config({SVG: {font: \"STIX-Web\"}});}\n",
              "        if (typeof require !== 'undefined') {\n",
              "        require.undef(\"plotly\");\n",
              "        requirejs.config({\n",
              "            paths: {\n",
              "                'plotly': ['https://cdn.plot.ly/plotly-2.18.2.min']\n",
              "            }\n",
              "        });\n",
              "        require(['plotly'], function(Plotly) {\n",
              "            window._Plotly = Plotly;\n",
              "        });\n",
              "        }\n",
              "        </script>\n",
              "        "
            ]
          },
          "metadata": {}
        }
      ],
      "source": [
        "import plotly.express as px\n",
        "\n",
        "from raceplotly.plots import barplot\n",
        "import plotly.offline as py\n",
        "py.init_notebook_mode(connected=True)"
      ]
    },
    {
      "cell_type": "markdown",
      "metadata": {
        "id": "BLngyIIrBxkq"
      },
      "source": [
        "### Common pyFTS imports and defaults"
      ]
    },
    {
      "cell_type": "code",
      "execution_count": 5,
      "metadata": {
        "id": "8UTAVj9lB1GM"
      },
      "outputs": [],
      "source": [
        "from pyFTS.common import Util as cUtil\n",
        "from pyFTS.benchmarks import benchmarks as bchmk, Util as bUtil\n",
        "\n",
        "from pyFTS.models import pwfts\n",
        "\n",
        "from pyFTS.common import Transformations\n",
        "tdiff = Transformations.Differential(1)"
      ]
    },
    {
      "cell_type": "markdown",
      "metadata": {
        "id": "ATRYEW2C9iCU"
      },
      "source": [
        "## Datasets"
      ]
    },
    {
      "cell_type": "markdown",
      "metadata": {
        "id": "A5thJmFzBeWr"
      },
      "source": [
        "### Data Loading"
      ]
    },
    {
      "cell_type": "code",
      "execution_count": 6,
      "metadata": {
        "id": "Wras1NoFjfoI",
        "colab": {
          "base_uri": "https://localhost:8080/",
          "height": 345
        },
        "outputId": "3d6e07fa-1cb9-4ca5-fc8f-75b5f03add2f"
      },
      "outputs": [
        {
          "output_type": "error",
          "ename": "FileNotFoundError",
          "evalue": "ignored",
          "traceback": [
            "\u001b[0;31m---------------------------------------------------------------------------\u001b[0m",
            "\u001b[0;31mFileNotFoundError\u001b[0m                         Traceback (most recent call last)",
            "\u001b[0;32m<ipython-input-6-fc71ec127d45>\u001b[0m in \u001b[0;36m<cell line: 1>\u001b[0;34m()\u001b[0m\n\u001b[0;32m----> 1\u001b[0;31m \u001b[0mdf_f\u001b[0m \u001b[0;34m=\u001b[0m \u001b[0mpd\u001b[0m\u001b[0;34m.\u001b[0m\u001b[0mread_csv\u001b[0m\u001b[0;34m(\u001b[0m\u001b[0;34m'Ferrari .csv'\u001b[0m\u001b[0;34m)\u001b[0m\u001b[0;34m\u001b[0m\u001b[0;34m\u001b[0m\u001b[0m\n\u001b[0m\u001b[1;32m      2\u001b[0m \u001b[0mdf_t\u001b[0m \u001b[0;34m=\u001b[0m  \u001b[0mpd\u001b[0m\u001b[0;34m.\u001b[0m\u001b[0mread_csv\u001b[0m\u001b[0;34m(\u001b[0m\u001b[0;34m'Tesla.csv'\u001b[0m\u001b[0;34m)\u001b[0m\u001b[0;34m\u001b[0m\u001b[0;34m\u001b[0m\u001b[0m\n\u001b[1;32m      3\u001b[0m \u001b[0;34m\u001b[0m\u001b[0m\n",
            "\u001b[0;32m/usr/local/lib/python3.10/dist-packages/pandas/util/_decorators.py\u001b[0m in \u001b[0;36mwrapper\u001b[0;34m(*args, **kwargs)\u001b[0m\n\u001b[1;32m    209\u001b[0m                 \u001b[0;32melse\u001b[0m\u001b[0;34m:\u001b[0m\u001b[0;34m\u001b[0m\u001b[0;34m\u001b[0m\u001b[0m\n\u001b[1;32m    210\u001b[0m                     \u001b[0mkwargs\u001b[0m\u001b[0;34m[\u001b[0m\u001b[0mnew_arg_name\u001b[0m\u001b[0;34m]\u001b[0m \u001b[0;34m=\u001b[0m \u001b[0mnew_arg_value\u001b[0m\u001b[0;34m\u001b[0m\u001b[0;34m\u001b[0m\u001b[0m\n\u001b[0;32m--> 211\u001b[0;31m             \u001b[0;32mreturn\u001b[0m \u001b[0mfunc\u001b[0m\u001b[0;34m(\u001b[0m\u001b[0;34m*\u001b[0m\u001b[0margs\u001b[0m\u001b[0;34m,\u001b[0m \u001b[0;34m**\u001b[0m\u001b[0mkwargs\u001b[0m\u001b[0;34m)\u001b[0m\u001b[0;34m\u001b[0m\u001b[0;34m\u001b[0m\u001b[0m\n\u001b[0m\u001b[1;32m    212\u001b[0m \u001b[0;34m\u001b[0m\u001b[0m\n\u001b[1;32m    213\u001b[0m         \u001b[0;32mreturn\u001b[0m \u001b[0mcast\u001b[0m\u001b[0;34m(\u001b[0m\u001b[0mF\u001b[0m\u001b[0;34m,\u001b[0m \u001b[0mwrapper\u001b[0m\u001b[0;34m)\u001b[0m\u001b[0;34m\u001b[0m\u001b[0;34m\u001b[0m\u001b[0m\n",
            "\u001b[0;32m/usr/local/lib/python3.10/dist-packages/pandas/util/_decorators.py\u001b[0m in \u001b[0;36mwrapper\u001b[0;34m(*args, **kwargs)\u001b[0m\n\u001b[1;32m    329\u001b[0m                     \u001b[0mstacklevel\u001b[0m\u001b[0;34m=\u001b[0m\u001b[0mfind_stack_level\u001b[0m\u001b[0;34m(\u001b[0m\u001b[0;34m)\u001b[0m\u001b[0;34m,\u001b[0m\u001b[0;34m\u001b[0m\u001b[0;34m\u001b[0m\u001b[0m\n\u001b[1;32m    330\u001b[0m                 )\n\u001b[0;32m--> 331\u001b[0;31m             \u001b[0;32mreturn\u001b[0m \u001b[0mfunc\u001b[0m\u001b[0;34m(\u001b[0m\u001b[0;34m*\u001b[0m\u001b[0margs\u001b[0m\u001b[0;34m,\u001b[0m \u001b[0;34m**\u001b[0m\u001b[0mkwargs\u001b[0m\u001b[0;34m)\u001b[0m\u001b[0;34m\u001b[0m\u001b[0;34m\u001b[0m\u001b[0m\n\u001b[0m\u001b[1;32m    332\u001b[0m \u001b[0;34m\u001b[0m\u001b[0m\n\u001b[1;32m    333\u001b[0m         \u001b[0;31m# error: \"Callable[[VarArg(Any), KwArg(Any)], Any]\" has no\u001b[0m\u001b[0;34m\u001b[0m\u001b[0;34m\u001b[0m\u001b[0m\n",
            "\u001b[0;32m/usr/local/lib/python3.10/dist-packages/pandas/io/parsers/readers.py\u001b[0m in \u001b[0;36mread_csv\u001b[0;34m(filepath_or_buffer, sep, delimiter, header, names, index_col, usecols, squeeze, prefix, mangle_dupe_cols, dtype, engine, converters, true_values, false_values, skipinitialspace, skiprows, skipfooter, nrows, na_values, keep_default_na, na_filter, verbose, skip_blank_lines, parse_dates, infer_datetime_format, keep_date_col, date_parser, dayfirst, cache_dates, iterator, chunksize, compression, thousands, decimal, lineterminator, quotechar, quoting, doublequote, escapechar, comment, encoding, encoding_errors, dialect, error_bad_lines, warn_bad_lines, on_bad_lines, delim_whitespace, low_memory, memory_map, float_precision, storage_options)\u001b[0m\n\u001b[1;32m    948\u001b[0m     \u001b[0mkwds\u001b[0m\u001b[0;34m.\u001b[0m\u001b[0mupdate\u001b[0m\u001b[0;34m(\u001b[0m\u001b[0mkwds_defaults\u001b[0m\u001b[0;34m)\u001b[0m\u001b[0;34m\u001b[0m\u001b[0;34m\u001b[0m\u001b[0m\n\u001b[1;32m    949\u001b[0m \u001b[0;34m\u001b[0m\u001b[0m\n\u001b[0;32m--> 950\u001b[0;31m     \u001b[0;32mreturn\u001b[0m \u001b[0m_read\u001b[0m\u001b[0;34m(\u001b[0m\u001b[0mfilepath_or_buffer\u001b[0m\u001b[0;34m,\u001b[0m \u001b[0mkwds\u001b[0m\u001b[0;34m)\u001b[0m\u001b[0;34m\u001b[0m\u001b[0;34m\u001b[0m\u001b[0m\n\u001b[0m\u001b[1;32m    951\u001b[0m \u001b[0;34m\u001b[0m\u001b[0m\n\u001b[1;32m    952\u001b[0m \u001b[0;34m\u001b[0m\u001b[0m\n",
            "\u001b[0;32m/usr/local/lib/python3.10/dist-packages/pandas/io/parsers/readers.py\u001b[0m in \u001b[0;36m_read\u001b[0;34m(filepath_or_buffer, kwds)\u001b[0m\n\u001b[1;32m    603\u001b[0m \u001b[0;34m\u001b[0m\u001b[0m\n\u001b[1;32m    604\u001b[0m     \u001b[0;31m# Create the parser.\u001b[0m\u001b[0;34m\u001b[0m\u001b[0;34m\u001b[0m\u001b[0m\n\u001b[0;32m--> 605\u001b[0;31m     \u001b[0mparser\u001b[0m \u001b[0;34m=\u001b[0m \u001b[0mTextFileReader\u001b[0m\u001b[0;34m(\u001b[0m\u001b[0mfilepath_or_buffer\u001b[0m\u001b[0;34m,\u001b[0m \u001b[0;34m**\u001b[0m\u001b[0mkwds\u001b[0m\u001b[0;34m)\u001b[0m\u001b[0;34m\u001b[0m\u001b[0;34m\u001b[0m\u001b[0m\n\u001b[0m\u001b[1;32m    606\u001b[0m \u001b[0;34m\u001b[0m\u001b[0m\n\u001b[1;32m    607\u001b[0m     \u001b[0;32mif\u001b[0m \u001b[0mchunksize\u001b[0m \u001b[0;32mor\u001b[0m \u001b[0miterator\u001b[0m\u001b[0;34m:\u001b[0m\u001b[0;34m\u001b[0m\u001b[0;34m\u001b[0m\u001b[0m\n",
            "\u001b[0;32m/usr/local/lib/python3.10/dist-packages/pandas/io/parsers/readers.py\u001b[0m in \u001b[0;36m__init__\u001b[0;34m(self, f, engine, **kwds)\u001b[0m\n\u001b[1;32m   1440\u001b[0m \u001b[0;34m\u001b[0m\u001b[0m\n\u001b[1;32m   1441\u001b[0m         \u001b[0mself\u001b[0m\u001b[0;34m.\u001b[0m\u001b[0mhandles\u001b[0m\u001b[0;34m:\u001b[0m \u001b[0mIOHandles\u001b[0m \u001b[0;34m|\u001b[0m \u001b[0;32mNone\u001b[0m \u001b[0;34m=\u001b[0m \u001b[0;32mNone\u001b[0m\u001b[0;34m\u001b[0m\u001b[0;34m\u001b[0m\u001b[0m\n\u001b[0;32m-> 1442\u001b[0;31m         \u001b[0mself\u001b[0m\u001b[0;34m.\u001b[0m\u001b[0m_engine\u001b[0m \u001b[0;34m=\u001b[0m \u001b[0mself\u001b[0m\u001b[0;34m.\u001b[0m\u001b[0m_make_engine\u001b[0m\u001b[0;34m(\u001b[0m\u001b[0mf\u001b[0m\u001b[0;34m,\u001b[0m \u001b[0mself\u001b[0m\u001b[0;34m.\u001b[0m\u001b[0mengine\u001b[0m\u001b[0;34m)\u001b[0m\u001b[0;34m\u001b[0m\u001b[0;34m\u001b[0m\u001b[0m\n\u001b[0m\u001b[1;32m   1443\u001b[0m \u001b[0;34m\u001b[0m\u001b[0m\n\u001b[1;32m   1444\u001b[0m     \u001b[0;32mdef\u001b[0m \u001b[0mclose\u001b[0m\u001b[0;34m(\u001b[0m\u001b[0mself\u001b[0m\u001b[0;34m)\u001b[0m \u001b[0;34m->\u001b[0m \u001b[0;32mNone\u001b[0m\u001b[0;34m:\u001b[0m\u001b[0;34m\u001b[0m\u001b[0;34m\u001b[0m\u001b[0m\n",
            "\u001b[0;32m/usr/local/lib/python3.10/dist-packages/pandas/io/parsers/readers.py\u001b[0m in \u001b[0;36m_make_engine\u001b[0;34m(self, f, engine)\u001b[0m\n\u001b[1;32m   1733\u001b[0m                 \u001b[0;32mif\u001b[0m \u001b[0;34m\"b\"\u001b[0m \u001b[0;32mnot\u001b[0m \u001b[0;32min\u001b[0m \u001b[0mmode\u001b[0m\u001b[0;34m:\u001b[0m\u001b[0;34m\u001b[0m\u001b[0;34m\u001b[0m\u001b[0m\n\u001b[1;32m   1734\u001b[0m                     \u001b[0mmode\u001b[0m \u001b[0;34m+=\u001b[0m \u001b[0;34m\"b\"\u001b[0m\u001b[0;34m\u001b[0m\u001b[0;34m\u001b[0m\u001b[0m\n\u001b[0;32m-> 1735\u001b[0;31m             self.handles = get_handle(\n\u001b[0m\u001b[1;32m   1736\u001b[0m                 \u001b[0mf\u001b[0m\u001b[0;34m,\u001b[0m\u001b[0;34m\u001b[0m\u001b[0;34m\u001b[0m\u001b[0m\n\u001b[1;32m   1737\u001b[0m                 \u001b[0mmode\u001b[0m\u001b[0;34m,\u001b[0m\u001b[0;34m\u001b[0m\u001b[0;34m\u001b[0m\u001b[0m\n",
            "\u001b[0;32m/usr/local/lib/python3.10/dist-packages/pandas/io/common.py\u001b[0m in \u001b[0;36mget_handle\u001b[0;34m(path_or_buf, mode, encoding, compression, memory_map, is_text, errors, storage_options)\u001b[0m\n\u001b[1;32m    854\u001b[0m         \u001b[0;32mif\u001b[0m \u001b[0mioargs\u001b[0m\u001b[0;34m.\u001b[0m\u001b[0mencoding\u001b[0m \u001b[0;32mand\u001b[0m \u001b[0;34m\"b\"\u001b[0m \u001b[0;32mnot\u001b[0m \u001b[0;32min\u001b[0m \u001b[0mioargs\u001b[0m\u001b[0;34m.\u001b[0m\u001b[0mmode\u001b[0m\u001b[0;34m:\u001b[0m\u001b[0;34m\u001b[0m\u001b[0;34m\u001b[0m\u001b[0m\n\u001b[1;32m    855\u001b[0m             \u001b[0;31m# Encoding\u001b[0m\u001b[0;34m\u001b[0m\u001b[0;34m\u001b[0m\u001b[0m\n\u001b[0;32m--> 856\u001b[0;31m             handle = open(\n\u001b[0m\u001b[1;32m    857\u001b[0m                 \u001b[0mhandle\u001b[0m\u001b[0;34m,\u001b[0m\u001b[0;34m\u001b[0m\u001b[0;34m\u001b[0m\u001b[0m\n\u001b[1;32m    858\u001b[0m                 \u001b[0mioargs\u001b[0m\u001b[0;34m.\u001b[0m\u001b[0mmode\u001b[0m\u001b[0;34m,\u001b[0m\u001b[0;34m\u001b[0m\u001b[0;34m\u001b[0m\u001b[0m\n",
            "\u001b[0;31mFileNotFoundError\u001b[0m: [Errno 2] No such file or directory: 'Ferrari .csv'"
          ]
        }
      ],
      "source": [
        "df_f = pd.read_csv('Ferrari .csv')\n",
        "df_t =  pd.read_csv('Tesla.csv')\n",
        "\n"
      ]
    },
    {
      "cell_type": "markdown",
      "metadata": {
        "id": "v6OTmLCtBlfK"
      },
      "source": [
        "### Statistics"
      ]
    },
    {
      "cell_type": "code",
      "execution_count": null,
      "metadata": {
        "colab": {
          "base_uri": "https://localhost:8080/",
          "height": 206
        },
        "id": "EXKhU-VOJKgj",
        "outputId": "50140a20-b743-4e48-844e-b0342782ed1b"
      },
      "outputs": [
        {
          "data": {
            "text/html": [
              "\n",
              "  <div id=\"df-06d581ff-9f61-4712-bf54-5676e5e9eda5\">\n",
              "    <div class=\"colab-df-container\">\n",
              "      <div>\n",
              "<style scoped>\n",
              "    .dataframe tbody tr th:only-of-type {\n",
              "        vertical-align: middle;\n",
              "    }\n",
              "\n",
              "    .dataframe tbody tr th {\n",
              "        vertical-align: top;\n",
              "    }\n",
              "\n",
              "    .dataframe thead th {\n",
              "        text-align: right;\n",
              "    }\n",
              "</style>\n",
              "<table border=\"1\" class=\"dataframe\">\n",
              "  <thead>\n",
              "    <tr style=\"text-align: right;\">\n",
              "      <th></th>\n",
              "      <th>Date</th>\n",
              "      <th>Open</th>\n",
              "      <th>High</th>\n",
              "      <th>Low</th>\n",
              "      <th>Close</th>\n",
              "      <th>Adj Close</th>\n",
              "      <th>Volume</th>\n",
              "    </tr>\n",
              "  </thead>\n",
              "  <tbody>\n",
              "    <tr>\n",
              "      <th>0</th>\n",
              "      <td>2015-10-22</td>\n",
              "      <td>57.070000</td>\n",
              "      <td>58.200001</td>\n",
              "      <td>55.700001</td>\n",
              "      <td>56.750000</td>\n",
              "      <td>53.604126</td>\n",
              "      <td>4545100</td>\n",
              "    </tr>\n",
              "    <tr>\n",
              "      <th>1</th>\n",
              "      <td>2015-10-23</td>\n",
              "      <td>57.770000</td>\n",
              "      <td>58.000000</td>\n",
              "      <td>56.270000</td>\n",
              "      <td>56.380001</td>\n",
              "      <td>53.254635</td>\n",
              "      <td>1967600</td>\n",
              "    </tr>\n",
              "    <tr>\n",
              "      <th>2</th>\n",
              "      <td>2015-10-26</td>\n",
              "      <td>57.000000</td>\n",
              "      <td>57.000000</td>\n",
              "      <td>54.540001</td>\n",
              "      <td>55.020000</td>\n",
              "      <td>51.970028</td>\n",
              "      <td>1466300</td>\n",
              "    </tr>\n",
              "    <tr>\n",
              "      <th>3</th>\n",
              "      <td>2015-10-27</td>\n",
              "      <td>54.799999</td>\n",
              "      <td>54.990002</td>\n",
              "      <td>49.360001</td>\n",
              "      <td>53.849998</td>\n",
              "      <td>50.864880</td>\n",
              "      <td>5949200</td>\n",
              "    </tr>\n",
              "    <tr>\n",
              "      <th>4</th>\n",
              "      <td>2015-10-28</td>\n",
              "      <td>54.020000</td>\n",
              "      <td>54.160000</td>\n",
              "      <td>50.099998</td>\n",
              "      <td>51.869999</td>\n",
              "      <td>48.994644</td>\n",
              "      <td>2411300</td>\n",
              "    </tr>\n",
              "  </tbody>\n",
              "</table>\n",
              "</div>\n",
              "      <button class=\"colab-df-convert\" onclick=\"convertToInteractive('df-06d581ff-9f61-4712-bf54-5676e5e9eda5')\"\n",
              "              title=\"Convert this dataframe to an interactive table.\"\n",
              "              style=\"display:none;\">\n",
              "        \n",
              "  <svg xmlns=\"http://www.w3.org/2000/svg\" height=\"24px\"viewBox=\"0 0 24 24\"\n",
              "       width=\"24px\">\n",
              "    <path d=\"M0 0h24v24H0V0z\" fill=\"none\"/>\n",
              "    <path d=\"M18.56 5.44l.94 2.06.94-2.06 2.06-.94-2.06-.94-.94-2.06-.94 2.06-2.06.94zm-11 1L8.5 8.5l.94-2.06 2.06-.94-2.06-.94L8.5 2.5l-.94 2.06-2.06.94zm10 10l.94 2.06.94-2.06 2.06-.94-2.06-.94-.94-2.06-.94 2.06-2.06.94z\"/><path d=\"M17.41 7.96l-1.37-1.37c-.4-.4-.92-.59-1.43-.59-.52 0-1.04.2-1.43.59L10.3 9.45l-7.72 7.72c-.78.78-.78 2.05 0 2.83L4 21.41c.39.39.9.59 1.41.59.51 0 1.02-.2 1.41-.59l7.78-7.78 2.81-2.81c.8-.78.8-2.07 0-2.86zM5.41 20L4 18.59l7.72-7.72 1.47 1.35L5.41 20z\"/>\n",
              "  </svg>\n",
              "      </button>\n",
              "      \n",
              "  <style>\n",
              "    .colab-df-container {\n",
              "      display:flex;\n",
              "      flex-wrap:wrap;\n",
              "      gap: 12px;\n",
              "    }\n",
              "\n",
              "    .colab-df-convert {\n",
              "      background-color: #E8F0FE;\n",
              "      border: none;\n",
              "      border-radius: 50%;\n",
              "      cursor: pointer;\n",
              "      display: none;\n",
              "      fill: #1967D2;\n",
              "      height: 32px;\n",
              "      padding: 0 0 0 0;\n",
              "      width: 32px;\n",
              "    }\n",
              "\n",
              "    .colab-df-convert:hover {\n",
              "      background-color: #E2EBFA;\n",
              "      box-shadow: 0px 1px 2px rgba(60, 64, 67, 0.3), 0px 1px 3px 1px rgba(60, 64, 67, 0.15);\n",
              "      fill: #174EA6;\n",
              "    }\n",
              "\n",
              "    [theme=dark] .colab-df-convert {\n",
              "      background-color: #3B4455;\n",
              "      fill: #D2E3FC;\n",
              "    }\n",
              "\n",
              "    [theme=dark] .colab-df-convert:hover {\n",
              "      background-color: #434B5C;\n",
              "      box-shadow: 0px 1px 3px 1px rgba(0, 0, 0, 0.15);\n",
              "      filter: drop-shadow(0px 1px 2px rgba(0, 0, 0, 0.3));\n",
              "      fill: #FFFFFF;\n",
              "    }\n",
              "  </style>\n",
              "\n",
              "      <script>\n",
              "        const buttonEl =\n",
              "          document.querySelector('#df-06d581ff-9f61-4712-bf54-5676e5e9eda5 button.colab-df-convert');\n",
              "        buttonEl.style.display =\n",
              "          google.colab.kernel.accessAllowed ? 'block' : 'none';\n",
              "\n",
              "        async function convertToInteractive(key) {\n",
              "          const element = document.querySelector('#df-06d581ff-9f61-4712-bf54-5676e5e9eda5');\n",
              "          const dataTable =\n",
              "            await google.colab.kernel.invokeFunction('convertToInteractive',\n",
              "                                                     [key], {});\n",
              "          if (!dataTable) return;\n",
              "\n",
              "          const docLinkHtml = 'Like what you see? Visit the ' +\n",
              "            '<a target=\"_blank\" href=https://colab.research.google.com/notebooks/data_table.ipynb>data table notebook</a>'\n",
              "            + ' to learn more about interactive tables.';\n",
              "          element.innerHTML = '';\n",
              "          dataTable['output_type'] = 'display_data';\n",
              "          await google.colab.output.renderOutput(dataTable, element);\n",
              "          const docLink = document.createElement('div');\n",
              "          docLink.innerHTML = docLinkHtml;\n",
              "          element.appendChild(docLink);\n",
              "        }\n",
              "      </script>\n",
              "    </div>\n",
              "  </div>\n",
              "  "
            ],
            "text/plain": [
              "         Date       Open       High        Low      Close  Adj Close   Volume\n",
              "0  2015-10-22  57.070000  58.200001  55.700001  56.750000  53.604126  4545100\n",
              "1  2015-10-23  57.770000  58.000000  56.270000  56.380001  53.254635  1967600\n",
              "2  2015-10-26  57.000000  57.000000  54.540001  55.020000  51.970028  1466300\n",
              "3  2015-10-27  54.799999  54.990002  49.360001  53.849998  50.864880  5949200\n",
              "4  2015-10-28  54.020000  54.160000  50.099998  51.869999  48.994644  2411300"
            ]
          },
          "execution_count": 70,
          "metadata": {},
          "output_type": "execute_result"
        }
      ],
      "source": [
        "df_f.head()"
      ]
    },
    {
      "cell_type": "code",
      "execution_count": null,
      "metadata": {
        "colab": {
          "base_uri": "https://localhost:8080/",
          "height": 424
        },
        "id": "2-6c6qLVbkPG",
        "outputId": "ca52dec9-9e76-44b9-b4a7-0b7b5942c3f0"
      },
      "outputs": [
        {
          "data": {
            "text/html": [
              "\n",
              "  <div id=\"df-dd8bb8a0-8e48-42d5-af67-a10c0ed7d60a\">\n",
              "    <div class=\"colab-df-container\">\n",
              "      <div>\n",
              "<style scoped>\n",
              "    .dataframe tbody tr th:only-of-type {\n",
              "        vertical-align: middle;\n",
              "    }\n",
              "\n",
              "    .dataframe tbody tr th {\n",
              "        vertical-align: top;\n",
              "    }\n",
              "\n",
              "    .dataframe thead th {\n",
              "        text-align: right;\n",
              "    }\n",
              "</style>\n",
              "<table border=\"1\" class=\"dataframe\">\n",
              "  <thead>\n",
              "    <tr style=\"text-align: right;\">\n",
              "      <th></th>\n",
              "      <th>Date</th>\n",
              "      <th>Open</th>\n",
              "      <th>High</th>\n",
              "      <th>Low</th>\n",
              "      <th>Close</th>\n",
              "      <th>Adj Close</th>\n",
              "      <th>Volume</th>\n",
              "    </tr>\n",
              "  </thead>\n",
              "  <tbody>\n",
              "    <tr>\n",
              "      <th>0</th>\n",
              "      <td>2015-10-22</td>\n",
              "      <td>57.070000</td>\n",
              "      <td>58.200001</td>\n",
              "      <td>55.700001</td>\n",
              "      <td>56.750000</td>\n",
              "      <td>53.604126</td>\n",
              "      <td>4545100</td>\n",
              "    </tr>\n",
              "    <tr>\n",
              "      <th>1</th>\n",
              "      <td>2015-10-23</td>\n",
              "      <td>57.770000</td>\n",
              "      <td>58.000000</td>\n",
              "      <td>56.270000</td>\n",
              "      <td>56.380001</td>\n",
              "      <td>53.254635</td>\n",
              "      <td>1967600</td>\n",
              "    </tr>\n",
              "    <tr>\n",
              "      <th>2</th>\n",
              "      <td>2015-10-26</td>\n",
              "      <td>57.000000</td>\n",
              "      <td>57.000000</td>\n",
              "      <td>54.540001</td>\n",
              "      <td>55.020000</td>\n",
              "      <td>51.970028</td>\n",
              "      <td>1466300</td>\n",
              "    </tr>\n",
              "    <tr>\n",
              "      <th>3</th>\n",
              "      <td>2015-10-27</td>\n",
              "      <td>54.799999</td>\n",
              "      <td>54.990002</td>\n",
              "      <td>49.360001</td>\n",
              "      <td>53.849998</td>\n",
              "      <td>50.864880</td>\n",
              "      <td>5949200</td>\n",
              "    </tr>\n",
              "    <tr>\n",
              "      <th>4</th>\n",
              "      <td>2015-10-28</td>\n",
              "      <td>54.020000</td>\n",
              "      <td>54.160000</td>\n",
              "      <td>50.099998</td>\n",
              "      <td>51.869999</td>\n",
              "      <td>48.994644</td>\n",
              "      <td>2411300</td>\n",
              "    </tr>\n",
              "    <tr>\n",
              "      <th>...</th>\n",
              "      <td>...</td>\n",
              "      <td>...</td>\n",
              "      <td>...</td>\n",
              "      <td>...</td>\n",
              "      <td>...</td>\n",
              "      <td>...</td>\n",
              "      <td>...</td>\n",
              "    </tr>\n",
              "    <tr>\n",
              "      <th>1880</th>\n",
              "      <td>2023-04-13</td>\n",
              "      <td>182.960007</td>\n",
              "      <td>186.500000</td>\n",
              "      <td>180.940002</td>\n",
              "      <td>185.899994</td>\n",
              "      <td>185.899994</td>\n",
              "      <td>112933000</td>\n",
              "    </tr>\n",
              "    <tr>\n",
              "      <th>1881</th>\n",
              "      <td>2023-04-14</td>\n",
              "      <td>183.949997</td>\n",
              "      <td>186.279999</td>\n",
              "      <td>182.009995</td>\n",
              "      <td>185.000000</td>\n",
              "      <td>185.000000</td>\n",
              "      <td>96306500</td>\n",
              "    </tr>\n",
              "    <tr>\n",
              "      <th>1882</th>\n",
              "      <td>2023-04-17</td>\n",
              "      <td>186.320007</td>\n",
              "      <td>189.690002</td>\n",
              "      <td>182.690002</td>\n",
              "      <td>187.039993</td>\n",
              "      <td>187.039993</td>\n",
              "      <td>116662200</td>\n",
              "    </tr>\n",
              "    <tr>\n",
              "      <th>1883</th>\n",
              "      <td>2023-04-18</td>\n",
              "      <td>187.149994</td>\n",
              "      <td>187.690002</td>\n",
              "      <td>183.580002</td>\n",
              "      <td>184.309998</td>\n",
              "      <td>184.309998</td>\n",
              "      <td>92067000</td>\n",
              "    </tr>\n",
              "    <tr>\n",
              "      <th>1884</th>\n",
              "      <td>2023-04-19</td>\n",
              "      <td>179.100006</td>\n",
              "      <td>183.500000</td>\n",
              "      <td>177.649994</td>\n",
              "      <td>180.589996</td>\n",
              "      <td>180.589996</td>\n",
              "      <td>120930900</td>\n",
              "    </tr>\n",
              "  </tbody>\n",
              "</table>\n",
              "<p>3770 rows × 7 columns</p>\n",
              "</div>\n",
              "      <button class=\"colab-df-convert\" onclick=\"convertToInteractive('df-dd8bb8a0-8e48-42d5-af67-a10c0ed7d60a')\"\n",
              "              title=\"Convert this dataframe to an interactive table.\"\n",
              "              style=\"display:none;\">\n",
              "        \n",
              "  <svg xmlns=\"http://www.w3.org/2000/svg\" height=\"24px\"viewBox=\"0 0 24 24\"\n",
              "       width=\"24px\">\n",
              "    <path d=\"M0 0h24v24H0V0z\" fill=\"none\"/>\n",
              "    <path d=\"M18.56 5.44l.94 2.06.94-2.06 2.06-.94-2.06-.94-.94-2.06-.94 2.06-2.06.94zm-11 1L8.5 8.5l.94-2.06 2.06-.94-2.06-.94L8.5 2.5l-.94 2.06-2.06.94zm10 10l.94 2.06.94-2.06 2.06-.94-2.06-.94-.94-2.06-.94 2.06-2.06.94z\"/><path d=\"M17.41 7.96l-1.37-1.37c-.4-.4-.92-.59-1.43-.59-.52 0-1.04.2-1.43.59L10.3 9.45l-7.72 7.72c-.78.78-.78 2.05 0 2.83L4 21.41c.39.39.9.59 1.41.59.51 0 1.02-.2 1.41-.59l7.78-7.78 2.81-2.81c.8-.78.8-2.07 0-2.86zM5.41 20L4 18.59l7.72-7.72 1.47 1.35L5.41 20z\"/>\n",
              "  </svg>\n",
              "      </button>\n",
              "      \n",
              "  <style>\n",
              "    .colab-df-container {\n",
              "      display:flex;\n",
              "      flex-wrap:wrap;\n",
              "      gap: 12px;\n",
              "    }\n",
              "\n",
              "    .colab-df-convert {\n",
              "      background-color: #E8F0FE;\n",
              "      border: none;\n",
              "      border-radius: 50%;\n",
              "      cursor: pointer;\n",
              "      display: none;\n",
              "      fill: #1967D2;\n",
              "      height: 32px;\n",
              "      padding: 0 0 0 0;\n",
              "      width: 32px;\n",
              "    }\n",
              "\n",
              "    .colab-df-convert:hover {\n",
              "      background-color: #E2EBFA;\n",
              "      box-shadow: 0px 1px 2px rgba(60, 64, 67, 0.3), 0px 1px 3px 1px rgba(60, 64, 67, 0.15);\n",
              "      fill: #174EA6;\n",
              "    }\n",
              "\n",
              "    [theme=dark] .colab-df-convert {\n",
              "      background-color: #3B4455;\n",
              "      fill: #D2E3FC;\n",
              "    }\n",
              "\n",
              "    [theme=dark] .colab-df-convert:hover {\n",
              "      background-color: #434B5C;\n",
              "      box-shadow: 0px 1px 3px 1px rgba(0, 0, 0, 0.15);\n",
              "      filter: drop-shadow(0px 1px 2px rgba(0, 0, 0, 0.3));\n",
              "      fill: #FFFFFF;\n",
              "    }\n",
              "  </style>\n",
              "\n",
              "      <script>\n",
              "        const buttonEl =\n",
              "          document.querySelector('#df-dd8bb8a0-8e48-42d5-af67-a10c0ed7d60a button.colab-df-convert');\n",
              "        buttonEl.style.display =\n",
              "          google.colab.kernel.accessAllowed ? 'block' : 'none';\n",
              "\n",
              "        async function convertToInteractive(key) {\n",
              "          const element = document.querySelector('#df-dd8bb8a0-8e48-42d5-af67-a10c0ed7d60a');\n",
              "          const dataTable =\n",
              "            await google.colab.kernel.invokeFunction('convertToInteractive',\n",
              "                                                     [key], {});\n",
              "          if (!dataTable) return;\n",
              "\n",
              "          const docLinkHtml = 'Like what you see? Visit the ' +\n",
              "            '<a target=\"_blank\" href=https://colab.research.google.com/notebooks/data_table.ipynb>data table notebook</a>'\n",
              "            + ' to learn more about interactive tables.';\n",
              "          element.innerHTML = '';\n",
              "          dataTable['output_type'] = 'display_data';\n",
              "          await google.colab.output.renderOutput(dataTable, element);\n",
              "          const docLink = document.createElement('div');\n",
              "          docLink.innerHTML = docLinkHtml;\n",
              "          element.appendChild(docLink);\n",
              "        }\n",
              "      </script>\n",
              "    </div>\n",
              "  </div>\n",
              "  "
            ],
            "text/plain": [
              "            Date        Open        High         Low       Close   Adj Close  \\\n",
              "0     2015-10-22   57.070000   58.200001   55.700001   56.750000   53.604126   \n",
              "1     2015-10-23   57.770000   58.000000   56.270000   56.380001   53.254635   \n",
              "2     2015-10-26   57.000000   57.000000   54.540001   55.020000   51.970028   \n",
              "3     2015-10-27   54.799999   54.990002   49.360001   53.849998   50.864880   \n",
              "4     2015-10-28   54.020000   54.160000   50.099998   51.869999   48.994644   \n",
              "...          ...         ...         ...         ...         ...         ...   \n",
              "1880  2023-04-13  182.960007  186.500000  180.940002  185.899994  185.899994   \n",
              "1881  2023-04-14  183.949997  186.279999  182.009995  185.000000  185.000000   \n",
              "1882  2023-04-17  186.320007  189.690002  182.690002  187.039993  187.039993   \n",
              "1883  2023-04-18  187.149994  187.690002  183.580002  184.309998  184.309998   \n",
              "1884  2023-04-19  179.100006  183.500000  177.649994  180.589996  180.589996   \n",
              "\n",
              "         Volume  \n",
              "0       4545100  \n",
              "1       1967600  \n",
              "2       1466300  \n",
              "3       5949200  \n",
              "4       2411300  \n",
              "...         ...  \n",
              "1880  112933000  \n",
              "1881   96306500  \n",
              "1882  116662200  \n",
              "1883   92067000  \n",
              "1884  120930900  \n",
              "\n",
              "[3770 rows x 7 columns]"
            ]
          },
          "execution_count": 71,
          "metadata": {},
          "output_type": "execute_result"
        }
      ],
      "source": [
        "new_df = pd.concat([df_f, df_t], axis=0)\n",
        "new_df"
      ]
    },
    {
      "cell_type": "code",
      "execution_count": null,
      "metadata": {
        "id": "ucE1CFldJLv1"
      },
      "outputs": [],
      "source": [
        "df_f.shape"
      ]
    },
    {
      "cell_type": "code",
      "execution_count": null,
      "metadata": {
        "id": "hLndWfTMJOtD"
      },
      "outputs": [],
      "source": [
        "df_f['Name'] = 'Ferrari'\n",
        "df_t.head()\n",
        "df_t.shape\n",
        "df_t['Name'] = 'Tesla'\n",
        "df_f.dtypes"
      ]
    },
    {
      "cell_type": "markdown",
      "metadata": {
        "id": "lHBPBM_1Bs0B"
      },
      "source": [
        "### Plots"
      ]
    },
    {
      "cell_type": "code",
      "execution_count": null,
      "metadata": {
        "id": "NlTuYb_xC2mU"
      },
      "outputs": [],
      "source": [
        "new_df[\"Date\"] = pd.to_datetime(new_df[\"Date\"],format=\"%Y-%m-%d\")\n",
        "new_df[\"Y\"] = new_df[\"Date\"].dt.year\n",
        "new_df[\"M\"] = new_df[\"Date\"].dt.month\n",
        "new_df[\"D\"] = new_df[\"Date\"].dt.day"
      ]
    },
    {
      "cell_type": "code",
      "execution_count": null,
      "metadata": {
        "id": "VPsR3OMfCzC4"
      },
      "outputs": [],
      "source": [
        "fig = px.line(new_df, x=\"Date\", \n",
        "              y=\"High\", color='Name',color_discrete_sequence = ['red', 'blue'],\n",
        "              hover_data=['Low', 'Close','Adj Close','Volume'])\n",
        "\n",
        "\n",
        "fig.show()\n",
        "\n"
      ]
    },
    {
      "cell_type": "markdown",
      "metadata": {
        "id": "XZXK0hXX_RV5"
      },
      "source": [
        "## Partitioning"
      ]
    },
    {
      "cell_type": "markdown",
      "metadata": {
        "id": "tQUevavIldH1"
      },
      "source": [
        "Modificaçoes"
      ]
    },
    {
      "cell_type": "code",
      "execution_count": null,
      "metadata": {
        "id": "h5J2xLqPq-TU"
      },
      "outputs": [],
      "source": [
        "\n",
        "\n",
        "# Ajustar modelo SARIMA para Ferrari\n",
        "model_ferrari = sm.tsa.SARIMAX(train['y_ferrari'], order=(1,1,1), seasonal_order=(0,1,1,12))\n",
        "results_ferrari = model_ferrari.fit()\n",
        "\n",
        "# Prever valores futuros para Ferrari\n",
        "forecast_ferrari = results_ferrari.predict(start=len(train), end=len(train)+11, dynamic=False)\n",
        "\n",
        "# Ajustar modelo SARIMA para Tesla\n",
        "model_tesla = sm.tsa.SARIMAX(train['y_tesla'], order=(1,1,1), seasonal_order=(0,1,1,12))\n",
        "results_tesla = model_tesla.fit()\n",
        "\n",
        "# Prever valores futuros para Tesla\n",
        "forecast_tesla = results_tesla.predict(start=len(train), end=len(train)+11, dynamic=False)\n",
        "\n",
        "# Juntar as previsões em um único DataFrame\n",
        "forecast = pd.DataFrame({'Date': test['ds'].values, 'Ferrari': forecast_ferrari.values, 'Tesla': forecast_tesla.values})\n",
        "\n",
        "# Plotar as previsões\n",
        "fig = px.line(new_df, x='ds', y='y_ferrari', title='Ferrari - Treino e Teste')\n",
        "fig.add_trace(px.line(test, x='ds', y='y_ferrari').data[0])\n",
        "fig.add_trace(px.line(forecast, x='Date', y='Ferrari').data[0])\n",
        "fig.show()\n",
        "\n",
        "fig = px.line(new_df, x='ds', y='y_tesla', title='Tesla - Treino e Teste')\n",
        "fig.add_trace(px.line(test, x='ds', y='y_tesla').data[0])\n",
        "fig.add_trace(px.line(forecast, x='Date', y='Tesla').data[0])\n",
        "fig.show()\n"
      ]
    },
    {
      "cell_type": "code",
      "execution_count": null,
      "metadata": {
        "id": "86gLJQrJHhpY"
      },
      "outputs": [],
      "source": [
        "from pyFTS.partitioners import Grid, Util as pUtil\n"
      ]
    },
    {
      "cell_type": "markdown",
      "metadata": {
        "id": "0kX7moRJB7IX"
      },
      "source": [
        "### Partitioning exploring and optimization\n",
        "\n",
        "**CAUTION**: This task is computationally expensive and take several hours to be performed. We strongly recommend to use the distributed version with a dispy cluster."
      ]
    },
    {
      "cell_type": "code",
      "execution_count": null,
      "metadata": {
        "id": "Qy5ahsKlHNyQ"
      },
      "outputs": [],
      "source": [
        "from pyFTS.common import Transformations\n",
        "from pyFTS.data import Tesla, Ferrari\n",
        "from pyFTS.benchmarks import benchmarks as bchmk, Util as bUtil\n",
        "\n",
        "tdiff = Transformations.Differential(1)\n",
        "\n",
        "_type = 'point'\n",
        "tag = \"partitioning\"\n",
        "\n",
        "for dataset_name in dataset_names:\n",
        "   dataset = [df_f, df_t]\n",
        "   dataset_names = ['Ferrari','Tesla']\n",
        "\n",
        "    bchmk.sliding_window_benchmarks(dataset, 1000, train=0.8, inc=0.2,\n",
        "                                    methods=[pwfts.ProbabilisticWeightedFTS],\n",
        "                                    benchmark_models=False,\n",
        "                                    transformations=[None],\n",
        "                                    #orders=[1,2,3],\n",
        "                                    orders = [1],\n",
        "                                    #partitions=np.arange(10,100,2), \n",
        "                                    partitions=np.arange(10,12), \n",
        "                                    progress=False, type=_type,\n",
        "                                    steps_ahead=[1],\n",
        "                                    #distributed=True, nodes=['192.168.0.110', '192.168.0.107','192.168.0.106'],\n",
        "                                    file=\"benchmarks.db\", dataset=dataset_name, tag=tag)\n",
        "    \n",
        "    \"\"\"\n",
        "\n",
        "    bchmk.sliding_window_benchmarks(dataset, 1000, train=0.8, inc=0.2,\n",
        "                                    methods=[pwfts.ProbabilisticWeightedFTS],\n",
        "                                    benchmark_models=False,\n",
        "                                    transformations=[tdiff],\n",
        "                                    orders=[1,2,3],\n",
        "                                    partitions=np.arange(3,30,1), \n",
        "                                    progress=False, type=_type,\n",
        "                                    steps_ahead=[1],\n",
        "                                    #distributed=True, nodes=['192.168.0.110', '192.168.0.107', '192.168.0.106'],\n",
        "                                    file=\"benchmarks.db\", dataset=dataset_name, tag=tag)\n",
        "\n",
        "    \"\"\""
      ]
    },
    {
      "cell_type": "code",
      "execution_count": null,
      "metadata": {
        "id": "lp1KLB6ljArT"
      },
      "outputs": [],
      "source": [
        "df_f = bUtil.get_dataframe_from_bd(\"benchmarks.db\",\n",
        "                                  \"tag = 'partitioning' and measure = 'rmse' and benchmarks.'order' = 1 \" +\n",
        "                                  \"and transformation is null\")\n",
        "\n",
        "df_t = bUtil.get_dataframe_from_bd(\"benchmarks.db\",\n",
        "                                  \"tag = 'partitioning' and measure = 'rmse' and benchmarks.'order' = 1 \" +\n",
        "                                  \"and transformation is not null\")\n",
        "\n",
        "fig, ax = plt.subplots(nrows=2, ncols=1, figsize=[15,7])\n",
        "\n",
        "g1 = sns.boxplot(x='Adj Close', y='Volume', hue='Data', data=df_f, showfliers=False, ax=ax[0], \n",
        "                 palette=\"Set3\")\n",
        "box = g1.get_position()\n",
        "g1.set_position([box.x0, box.y0, box.width * 0.85, box.height]) \n",
        "g1.legend(loc='right', bbox_to_anchor=(1.15, 0.5), ncol=1)\n",
        "ax[0].set_title(\"Original data\")\n",
        "ax[0].set_ylabel(\"RMSE\")\n",
        "ax[0].set_xlabel(\"\")\n",
        "\n",
        "g2 = sns.boxplot(x='Adj Close', y='Volume', hue='Data', data=df2, showfliers=False, ax=ax[1], \n",
        "                 palette=\"Set3\")\n",
        "box = g2.get_position()\n",
        "g2.set_position([box.x0, box.y0, box.width * 0.85, box.height]) \n",
        "g2.legend(loc='right', bbox_to_anchor=(1.15, 0.5), ncol=1)\n",
        "ax[1].set_title(\"Differentiated data\")\n",
        "ax[1].set_ylabel(\"RMSE\")\n",
        "ax[1].set_xlabel(\"Number of partitions of the UoD\")\n"
      ]
    },
    {
      "cell_type": "code",
      "execution_count": 7,
      "metadata": {
        "colab": {
          "base_uri": "https://localhost:8080/",
          "height": 356
        },
        "id": "xArKyBywoPrA",
        "outputId": "c3237f33-bb03-47c4-c339-8081666783d3"
      },
      "outputs": [
        {
          "output_type": "error",
          "ename": "AttributeError",
          "evalue": "ignored",
          "traceback": [
            "\u001b[0;31m---------------------------------------------------------------------------\u001b[0m",
            "\u001b[0;31mAttributeError\u001b[0m                            Traceback (most recent call last)",
            "\u001b[0;32m<ipython-input-7-bd69428e1814>\u001b[0m in \u001b[0;36m<cell line: 11>\u001b[0;34m()\u001b[0m\n\u001b[1;32m      9\u001b[0m \u001b[0mdf\u001b[0m \u001b[0;34m=\u001b[0m \u001b[0mdat\u001b[0m\u001b[0;34m[\u001b[0m\u001b[0;34m(\u001b[0m\u001b[0mdat\u001b[0m\u001b[0;34m.\u001b[0m\u001b[0mMeasure\u001b[0m \u001b[0;34m==\u001b[0m \u001b[0;34m'rmse'\u001b[0m\u001b[0;34m)\u001b[0m \u001b[0;34m&\u001b[0m \u001b[0;34m(\u001b[0m\u001b[0mdat\u001b[0m\u001b[0;34m.\u001b[0m\u001b[0mValue\u001b[0m \u001b[0;34m<=\u001b[0m \u001b[0;36m300\u001b[0m\u001b[0;34m)\u001b[0m\u001b[0;34m]\u001b[0m\u001b[0;34m\u001b[0m\u001b[0;34m\u001b[0m\u001b[0m\n\u001b[1;32m     10\u001b[0m \u001b[0;34m\u001b[0m\u001b[0m\n\u001b[0;32m---> 11\u001b[0;31m \u001b[0mdf\u001b[0m\u001b[0;34m[\u001b[0m\u001b[0;34m'Value'\u001b[0m\u001b[0;34m]\u001b[0m \u001b[0;34m=\u001b[0m \u001b[0mmin_max_scaler\u001b[0m\u001b[0;34m.\u001b[0m\u001b[0mfit_transform\u001b[0m\u001b[0;34m(\u001b[0m\u001b[0mdf\u001b[0m\u001b[0;34m[\u001b[0m\u001b[0;34m'Value'\u001b[0m\u001b[0;34m]\u001b[0m\u001b[0;34m.\u001b[0m\u001b[0mreshape\u001b[0m\u001b[0;34m(\u001b[0m\u001b[0;34m-\u001b[0m\u001b[0;36m1\u001b[0m\u001b[0;34m,\u001b[0m \u001b[0;36m1\u001b[0m\u001b[0;34m)\u001b[0m\u001b[0;34m)\u001b[0m\u001b[0;34m\u001b[0m\u001b[0;34m\u001b[0m\u001b[0m\n\u001b[0m\u001b[1;32m     12\u001b[0m \u001b[0;34m\u001b[0m\u001b[0m\n\u001b[1;32m     13\u001b[0m \u001b[0mfig\u001b[0m \u001b[0;34m=\u001b[0m \u001b[0mplt\u001b[0m\u001b[0;34m.\u001b[0m\u001b[0mfigure\u001b[0m\u001b[0;34m(\u001b[0m\u001b[0mfigsize\u001b[0m\u001b[0;34m=\u001b[0m\u001b[0;34m[\u001b[0m\u001b[0;36m12\u001b[0m\u001b[0;34m,\u001b[0m\u001b[0;36m7\u001b[0m\u001b[0;34m]\u001b[0m\u001b[0;34m)\u001b[0m\u001b[0;34m\u001b[0m\u001b[0;34m\u001b[0m\u001b[0m\n",
            "\u001b[0;32m/usr/local/lib/python3.10/dist-packages/pandas/core/generic.py\u001b[0m in \u001b[0;36m__getattr__\u001b[0;34m(self, name)\u001b[0m\n\u001b[1;32m   5900\u001b[0m         ):\n\u001b[1;32m   5901\u001b[0m             \u001b[0;32mreturn\u001b[0m \u001b[0mself\u001b[0m\u001b[0;34m[\u001b[0m\u001b[0mname\u001b[0m\u001b[0;34m]\u001b[0m\u001b[0;34m\u001b[0m\u001b[0;34m\u001b[0m\u001b[0m\n\u001b[0;32m-> 5902\u001b[0;31m         \u001b[0;32mreturn\u001b[0m \u001b[0mobject\u001b[0m\u001b[0;34m.\u001b[0m\u001b[0m__getattribute__\u001b[0m\u001b[0;34m(\u001b[0m\u001b[0mself\u001b[0m\u001b[0;34m,\u001b[0m \u001b[0mname\u001b[0m\u001b[0;34m)\u001b[0m\u001b[0;34m\u001b[0m\u001b[0;34m\u001b[0m\u001b[0m\n\u001b[0m\u001b[1;32m   5903\u001b[0m \u001b[0;34m\u001b[0m\u001b[0m\n\u001b[1;32m   5904\u001b[0m     \u001b[0;32mdef\u001b[0m \u001b[0m__setattr__\u001b[0m\u001b[0;34m(\u001b[0m\u001b[0mself\u001b[0m\u001b[0;34m,\u001b[0m \u001b[0mname\u001b[0m\u001b[0;34m:\u001b[0m \u001b[0mstr\u001b[0m\u001b[0;34m,\u001b[0m \u001b[0mvalue\u001b[0m\u001b[0;34m)\u001b[0m \u001b[0;34m->\u001b[0m \u001b[0;32mNone\u001b[0m\u001b[0;34m:\u001b[0m\u001b[0;34m\u001b[0m\u001b[0;34m\u001b[0m\u001b[0m\n",
            "\u001b[0;31mAttributeError\u001b[0m: 'Series' object has no attribute 'reshape'"
          ]
        }
      ],
      "source": [
        "dat = bUtil.get_dataframe_from_bd(\"benchmarks.db\",\"tag = 'partitioning' \" \n",
        "                                  +\" and dataset = 'TESLA' and transformation is not null\")\n",
        "\n",
        "from pyFTS.benchmarks import Util as bUtil\n",
        "from sklearn import preprocessing\n",
        "min_max_scaler = preprocessing.MinMaxScaler()\n",
        "\n",
        "\n",
        "df = dat[(dat.Measure == 'rmse') & (dat.Value <= 300)]\n",
        "\n",
        "df['Value'] = min_max_scaler.fit_transform(df['Value'].reshape(-1, 1))\n",
        "\n",
        "fig = plt.figure(figsize=[12,7])\n",
        "ax = fig.gca(projection='3d')\n",
        "ax.plot_trisurf(df['Order'], df['Partitions'], df['Value'], cmap=\"summer\", linewidth=0.2, antialiased=True)\n",
        "ax.set_title(\"Error surface by order and number of partitions\")\n",
        "ax.set_xlabel(\"Order\")\n",
        "ax.set_xticks([1,2,3])\n",
        "ax.set_ylabel(\"Partitions\")\n",
        "ax.set_zlabel(\"RMSE\")\n",
        "ax.set_zlim([0,1])\n",
        "plt.show()\n"
      ]
    },
    {
      "cell_type": "markdown",
      "metadata": {
        "id": "r-6TEX-nCGmI"
      },
      "source": [
        "### Default partitioners"
      ]
    },
    {
      "cell_type": "code",
      "execution_count": null,
      "metadata": {
        "id": "w2B7iphnHOgM"
      },
      "outputs": [],
      "source": [
        "partitioner = Grid.GridPartitioner(data=dataset[:train_split], npart=50)\n",
        "partitioner_diff = Grid.GridPartitioner(data=dataset[:train_split], npart=5, transformation=tdiff)"
      ]
    },
    {
      "cell_type": "markdown",
      "metadata": {
        "id": "fR3V8sovCTY-"
      },
      "source": [
        "### Plots"
      ]
    },
    {
      "cell_type": "code",
      "execution_count": null,
      "metadata": {
        "id": "GuMHlEvIjfoW"
      },
      "outputs": [],
      "source": [
        "\n",
        "pUtil.plot_partitioners(dataset[:train_split], [partitioner,partitioner_diff], tam=[8,5])"
      ]
    },
    {
      "cell_type": "markdown",
      "metadata": {
        "id": "GMX34D31_Lga"
      },
      "source": [
        "## Model Training"
      ]
    },
    {
      "cell_type": "markdown",
      "metadata": {
        "id": "vBFl_kcQiLIk"
      },
      "source": [
        "### Without transformations "
      ]
    },
    {
      "cell_type": "markdown",
      "metadata": {
        "id": "I-Q_7B7f_Ozp"
      },
      "source": []
    },
    {
      "cell_type": "code",
      "execution_count": null,
      "metadata": {
        "id": "juR7CY7Djfoe"
      },
      "outputs": [],
      "source": [
        "from pyFTS.common import fts,tree\n",
        "from pyFTS.models import hofts, pwfts\n",
        "\n",
        "pfts1_taiex = pwfts.ProbabilisticWeightedFTS(partitioner=partitioner)\n",
        "pfts1_taiex.fit(dataset[:train_split], save_model=True, file_path='pwfts', order=1)\n",
        "pfts1_taiex.shortname = \"1st Order\"\n",
        "print(pfts1_taiex)"
      ]
    },
    {
      "cell_type": "code",
      "execution_count": null,
      "metadata": {
        "id": "QKKHhG9HbBjK"
      },
      "outputs": [],
      "source": [
        "pwfts.visualize_distributions(pfts1_taiex, size=(5,3))"
      ]
    },
    {
      "cell_type": "markdown",
      "metadata": {
        "id": "PLq-vch8iP00"
      },
      "source": [
        "### With transformations "
      ]
    },
    {
      "cell_type": "code",
      "execution_count": null,
      "metadata": {
        "id": "pVXCOPMTjfok"
      },
      "outputs": [],
      "source": [
        "from pyFTS.models import pwfts\n",
        "\n",
        "pfts1_tesla_diff = pwfts.ProbabilisticWeightedFTS(partitioner=partitioner_diff)\n",
        "pfts1_tesla_diff.append_transformation(tdiff)\n",
        "pfts1_tesla_diff.fit(dataset[:train_split], order=2, save_model=True, file_path='pwfts_diff')\n",
        "pfts1_tesla_diff.shortname = \"Diff\"\n",
        "print(pfts1_tesla_diff)"
      ]
    },
    {
      "cell_type": "code",
      "execution_count": null,
      "metadata": {
        "id": "LfnEfOLpjAsx"
      },
      "outputs": [],
      "source": [
        "pwfts.visualize_distributions(pfts1_taiex_diff, size=(5,3))"
      ]
    },
    {
      "cell_type": "markdown",
      "metadata": {
        "id": "03esTv3g_ozl"
      },
      "source": [
        "## Test Forecasting"
      ]
    },
    {
      "cell_type": "markdown",
      "metadata": {
        "id": "2nZ4lEskjAus"
      },
      "source": [
        "### Point Forecasting Benchmarks"
      ]
    },
    {
      "cell_type": "code",
      "execution_count": null,
      "metadata": {
        "id": "Fb2TzIyPjAu2"
      },
      "outputs": [],
      "source": []
    }
  ],
  "metadata": {
    "colab": {
      "provenance": []
    },
    "kernelspec": {
      "display_name": "Python 3",
      "language": "python",
      "name": "python3"
    },
    "language_info": {
      "codemirror_mode": {
        "name": "ipython",
        "version": 3
      },
      "file_extension": ".py",
      "mimetype": "text/x-python",
      "name": "python",
      "nbconvert_exporter": "python",
      "pygments_lexer": "ipython3",
      "version": "3.6.3"
    },
    "toc": {
      "base_numbering": 1,
      "nav_menu": {},
      "number_sections": true,
      "sideBar": true,
      "skip_h1_title": false,
      "title_cell": "Table of Contents",
      "title_sidebar": "Contents",
      "toc_cell": false,
      "toc_position": {},
      "toc_section_display": true,
      "toc_window_display": false
    },
    "varInspector": {
      "cols": {
        "lenName": 16,
        "lenType": 16,
        "lenVar": 40
      },
      "kernels_config": {
        "python": {
          "delete_cmd_postfix": "",
          "delete_cmd_prefix": "del ",
          "library": "var_list.py",
          "varRefreshCmd": "print(var_dic_list())"
        },
        "r": {
          "delete_cmd_postfix": ") ",
          "delete_cmd_prefix": "rm(",
          "library": "var_list.r",
          "varRefreshCmd": "cat(var_dic_list()) "
        }
      },
      "types_to_exclude": [
        "module",
        "function",
        "builtin_function_or_method",
        "instance",
        "_Feature"
      ],
      "window_display": false
    }
  },
  "nbformat": 4,
  "nbformat_minor": 0
}